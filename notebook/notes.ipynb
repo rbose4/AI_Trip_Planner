{
 "cells": [
  {
   "cell_type": "markdown",
   "id": "226ac1d8",
   "metadata": {},
   "source": [
    "# Useful Notes for the project"
   ]
  },
  {
   "cell_type": "markdown",
   "id": "18a0480b",
   "metadata": {
    "vscode": {
     "languageId": "plaintext"
    }
   },
   "source": [
    "##  Features of the project"
   ]
  },
  {
   "cell_type": "markdown",
   "id": "e79bcb86",
   "metadata": {},
   "source": [
    "<details>\n",
    "AI Trip planner\n",
    "\n",
    " - Plan a trip for any city world wide with real-time data\n",
    "\n",
    "- Features\n",
    "    - 1. collect Real-time weather info\n",
    "    - 2. check attraction and activity in a city\n",
    "    - 3. check hotel cost \n",
    "    - 4. check currency conversion\n",
    "    - 5. itinerary planning\n",
    "    - 6. calculate total expense\n",
    "    - 7. generate a complete summary\n",
    "    </details>"
   ]
  },
  {
   "cell_type": "markdown",
   "id": "285fb09b",
   "metadata": {},
   "source": [
    "## Creating project structure and virtual environment using uv"
   ]
  },
  {
   "cell_type": "markdown",
   "id": "d4024db4",
   "metadata": {
    "vscode": {
     "languageId": "yaml"
    }
   },
   "source": [
    "\n",
    "<details>\n",
    "\n",
    "* For environment creation use uv - uv is a wrapper written RUST on top of the python package manager pip.\n",
    "* step 1 - uv setup \n",
    "    * check if uv is installed in the terminal\n",
    "    * then navigate to the folder where you want to create the project folder in the terminal\n",
    "    * run cmd uv init “folde_name” \n",
    "        * example uv init AI_Trip_Planner. A folder with this name is created.\n",
    "* Step1.1 - create environment\n",
    "    * first deactivate conda in the vscode terminal by using the cmd “conda deactivate”\n",
    "    * get the list of python cmd “uv python list”\n",
    "    * install the needed version of python “uv python install  [name of package from the list]\n",
    "        * example uv python install cpython-3.12.11-macos-aarch64-none\n",
    "    * create virtual environment \n",
    "        * cmd  uv venv env —python cpython-3.12.11-macos-aarch64-none\n",
    "        * The python version used to create env must be compatible with version in .python-version\n",
    "    * activate env environment\n",
    "        * cmd source env/bin/activate\n",
    "    * to check packages in the env\n",
    "        * uv pip list\n",
    "    * to install any package \n",
    "        * cmd - uv pip install [package_name]\n",
    "    * To get the list of all commands we ran in the virtual environment\n",
    "        * cmd - history\n",
    "    * To create the project as a package and also install all packages in the requirements\n",
    "        * create a setup.py file. If you have a method like get_requirements() that gives the list of requirements used in setup, then run cmd uv pip install .\n",
    "        * without get_requirements and just setup in setup.py, run cmd uv pip install -r requirements.txt\n",
    "        * cmd uv add package_name installs dependencies and also add the package name to .toml file.\n",
    "        * echo $VIRTUAL_ENV to check the current virtual environment\n",
    "* step 3- folder\n",
    "* step 4 - development of the project\n",
    "* step 5 - deployment\n",
    "\n",
    "</details>\n"
   ]
  },
  {
   "cell_type": "markdown",
   "id": "2a2171e6",
   "metadata": {
    "vscode": {
     "languageId": "plaintext"
    }
   },
   "source": [
    "### Using Pydantic class and validation in ModelLoader class"
   ]
  },
  {
   "cell_type": "markdown",
   "id": "85b79c2d",
   "metadata": {},
   "source": [
    "Code\n",
    "<details>\n",
    "\n",
    "```python\n",
    "class ModelLoader(BaseModel):\n",
    "    model_provider: Literal[\"groq\", \"openai\"] = \"groq\"\n",
    "    config: Optional[ConfigLoader] = Field(default=None, exclude=True)\n",
    "\n",
    "\n",
    "    def model_post_init(self, __context: Any) -> None:\n",
    "        self.config = ConfigLoader()\n",
    "    \n",
    "    class Config:\n",
    "        arbitrary_types_allowed = True\n",
    "```\n",
    "\n",
    "\n",
    "This Python code snippet, which uses the **Pydantic** library, defines a data model for loading machine learning models. Let's break down what each part means:\n",
    "\n",
    "### `class ModelLoader(BaseModel):`\n",
    "\n",
    "* This line defines a class named `ModelLoader` that inherits from `BaseModel`.\n",
    "* **`BaseModel`** is a class provided by Pydantic. By inheriting from it, `ModelLoader` gets powerful data validation and parsing capabilities. It ensures that data passed to `ModelLoader` instances conforms to the types you've defined.\n",
    "\n",
    "### `model_provider: Literal[\"groq\", \"openai\"] = \"groq\"`\n",
    "\n",
    "* This line defines a class attribute named `model_provider`.\n",
    "* **`Literal[\"groq\", \"openai\"]`** is a type hint from the `typing` module. It means that the `model_provider` field can **only** be one of the two string values: `\"groq\"` or `\"openai\"`. This is a strict form of validation. If you try to set `model_provider` to anything else, like `\"cohere\"`, Pydantic will raise a validation error.\n",
    "* **`= \"groq\"`** sets a default value for the field. If a `ModelLoader` object is created without specifying `model_provider`, its value will be `\"groq\"`.\n",
    "\n",
    "### `config: Optional[ConfigLoader] = Field(default=None, exclude=True)`\n",
    "\n",
    "* This line defines a field named `config`.\n",
    "* **`Optional[ConfigLoader]`** means that the value of `config` can be either an instance of the `ConfigLoader` class or `None`.\n",
    "* **`Field(...)`** is a Pydantic function used to provide extra configuration for a field.\n",
    "* **`default=None`** explicitly sets the default value of the field to `None`.\n",
    "* **`exclude=True`** is a key Pydantic setting. It means that when you export the `ModelLoader` object to a dictionary or JSON using methods like `.model_dump()` or `.model_dump_json()`, the `config` field will be **excluded** from the output. This is useful for internal-only data that shouldn't be serialized.\n",
    "\n",
    "### `def model_post_init(self, __context: Any) -> None:`\n",
    "\n",
    "* This is a special Pydantic method that runs **after** the model has been initialized and validated.\n",
    "* The `__context` parameter is a Pydantic-specific detail and can be ignored for general understanding.\n",
    "* **`self.config = ConfigLoader()`** is the main action here. It creates an instance of the `ConfigLoader` class and assigns it to the `config` field. This ensures that the `config` is always set up, but it happens *after* the initial validation of the object's creation data.\n",
    "\n",
    "### `class Config:`\n",
    "\n",
    "* This is an inner class used to configure the behavior of the parent `ModelLoader` model.\n",
    "* **`arbitrary_types_allowed = True`** is the setting you asked about. By default, Pydantic only allows a certain set of types (like strings, numbers, and other Pydantic models) to be used as field types. When you set this to `True`, you are telling Pydantic that it's okay to have fields with custom, non-Pydantic types, such as the `ConfigLoader` class in this example. Without this line, Pydantic would raise an error because it wouldn't know how to validate or serialize a `ConfigLoader` object.\n",
    "\n",
    "***\n",
    "\n",
    "In summary, this code creates a `ModelLoader` class that:\n",
    "\n",
    "1.  Can handle either \"groq\" or \"openai\" as a model provider.\n",
    "2.  Initializes a `ConfigLoader` object for its internal use.\n",
    "3.  Ensures that this internal `config` object is not included when the `ModelLoader` instance is exported to data formats like JSON.\n",
    "4.  Allows the use of a custom `ConfigLoader` type by enabling `arbitrary_types_allowed`.\n",
    "\n",
    "\n",
    "</details>"
   ]
  },
  {
   "cell_type": "markdown",
   "id": "4e513ff6",
   "metadata": {},
   "source": [
    "### Use of __call__ method"
   ]
  },
  {
   "cell_type": "markdown",
   "id": "028e6544",
   "metadata": {
    "vscode": {
     "languageId": "plaintext"
    }
   },
   "source": [
    "<details>\n",
    "\n",
    "The code snippet `def __call__(self): return self.build_graph()` defines a special method in Python. It means that an instance of the class can be called like a function.\n",
    "\n",
    "-----\n",
    "\n",
    "### Explanation of `__call__`\n",
    "\n",
    "The `__call__` method is a built-in feature of Python classes. When you define this method, you make an object of that class **callable**. This means you can use parentheses `()` after the object's name, just as if it were a function.\n",
    "\n",
    "For example, if you have a class `MyClass` with a `__call__` method, you can do this:\n",
    "\n",
    "```python\n",
    "class MyClass:\n",
    "    def __init__(self):\n",
    "        print(\"Initializing object\")\n",
    "\n",
    "    def __call__(self):\n",
    "        print(\"Object is being called like a function\")\n",
    "\n",
    "# Create an object\n",
    "my_object = MyClass()\n",
    "# Call the object like a function\n",
    "my_object()\n",
    "```\n",
    "\n",
    "In the provided code `def __call__(self): return self.build_graph()`, the `__call__` method simply executes another method of the class, `self.build_graph()`, and returns its result.\n",
    "\n",
    "### What It Means for Your Code\n",
    "\n",
    "This design pattern is often used to simplify the interface of an object. Instead of having to explicitly call a method like `my_loader.build_graph()`, a user can just write `my_loader()`. This can make the code cleaner and more intuitive, especially for objects that are designed to perform a primary action, such as building a graph or processing data.\n",
    "\n",
    "</details>"
   ]
  },
  {
   "cell_type": "markdown",
   "id": "1fba5ce2",
   "metadata": {},
   "source": []
  }
 ],
 "metadata": {
  "language_info": {
   "name": "python"
  }
 },
 "nbformat": 4,
 "nbformat_minor": 5
}
