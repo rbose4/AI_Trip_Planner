{
 "cells": [
  {
   "cell_type": "code",
   "execution_count": 1,
   "id": "ed57efd2",
   "metadata": {},
   "outputs": [
    {
     "name": "stdout",
     "output_type": "stream",
     "text": [
      "hello world\n"
     ]
    }
   ],
   "source": [
    "print(\"hello world\")"
   ]
  },
  {
   "cell_type": "code",
   "execution_count": 26,
   "id": "1d5dd428",
   "metadata": {},
   "outputs": [],
   "source": [
    "# !uv pip install python-dotenv"
   ]
  },
  {
   "cell_type": "code",
   "execution_count": 25,
   "id": "23d4e15e",
   "metadata": {},
   "outputs": [],
   "source": [
    "# !uv pip install langchain\n",
    "# !uv pip install langchain-community\n",
    "# !uv pip install langchain_groq"
   ]
  },
  {
   "cell_type": "code",
   "execution_count": 2,
   "id": "3ae5601d",
   "metadata": {},
   "outputs": [
    {
     "data": {
      "text/plain": [
       "True"
      ]
     },
     "execution_count": 2,
     "metadata": {},
     "output_type": "execute_result"
    }
   ],
   "source": [
    "import os\n",
    "from dotenv import load_dotenv\n",
    "\n",
    "load_dotenv()"
   ]
  },
  {
   "cell_type": "code",
   "execution_count": null,
   "id": "e51ebfc6",
   "metadata": {},
   "outputs": [],
   "source": []
  },
  {
   "cell_type": "code",
   "execution_count": 4,
   "id": "14085c32",
   "metadata": {},
   "outputs": [],
   "source": [
    "\n",
    "from langchain_groq.chat_models import ChatGroq"
   ]
  },
  {
   "cell_type": "code",
   "execution_count": 5,
   "id": "4eee3a9e",
   "metadata": {},
   "outputs": [],
   "source": [
    "llm = ChatGroq(model=\"deepseek-r1-distill-llama-70b\", api_key=os.getenv(\"GROQ_API_KEY\"))"
   ]
  },
  {
   "cell_type": "code",
   "execution_count": 6,
   "id": "9563e477",
   "metadata": {},
   "outputs": [
    {
     "data": {
      "text/plain": [
       "AIMessage(content=\"<think>\\n\\n</think>\\n\\nHi! I'm DeepSeek-R1, an AI assistant independently developed by the Chinese company DeepSeek Inc. For detailed information about models and products, please refer to the official documentation.\", additional_kwargs={}, response_metadata={'token_usage': {'completion_tokens': 42, 'prompt_tokens': 8, 'total_tokens': 50, 'completion_time': 0.208288243, 'prompt_time': 0.01000892, 'queue_time': 0.195422007, 'total_time': 0.218297163}, 'model_name': 'deepseek-r1-distill-llama-70b', 'system_fingerprint': 'fp_1bbe7845ec', 'service_tier': 'on_demand', 'finish_reason': 'stop', 'logprobs': None}, id='run--46176d87-edc3-4ca2-a800-f41f1db79332-0', usage_metadata={'input_tokens': 8, 'output_tokens': 42, 'total_tokens': 50})"
      ]
     },
     "execution_count": 6,
     "metadata": {},
     "output_type": "execute_result"
    }
   ],
   "source": [
    "llm.invoke(\"What is your strength?\")"
   ]
  },
  {
   "cell_type": "code",
   "execution_count": 7,
   "id": "a17220ae",
   "metadata": {},
   "outputs": [],
   "source": [
    "from langchain.tools import tool"
   ]
  },
  {
   "cell_type": "code",
   "execution_count": 8,
   "id": "01bfa941",
   "metadata": {},
   "outputs": [],
   "source": [
    "@tool\n",
    "def multiply(a: int, b: int) -> int:\n",
    "    \"\"\"\n",
    "    Multiply two integers.\n",
    "\n",
    "    Args:\n",
    "        a (int): The first integer.\n",
    "        b (int): The second integer.\n",
    "\n",
    "    Returns:\n",
    "        int: The product of a and b.\n",
    "    \"\"\"\n",
    "    return a * b"
   ]
  },
  {
   "cell_type": "code",
   "execution_count": 9,
   "id": "c10feddb",
   "metadata": {},
   "outputs": [
    {
     "data": {
      "text/plain": [
       "StructuredTool(name='multiply', description='Multiply two integers.\\n\\nArgs:\\n    a (int): The first integer.\\n    b (int): The second integer.\\n\\nReturns:\\n    int: The product of a and b.', args_schema=<class 'langchain_core.utils.pydantic.multiply'>, func=<function multiply at 0x10ccc9f80>)"
      ]
     },
     "execution_count": 9,
     "metadata": {},
     "output_type": "execute_result"
    }
   ],
   "source": [
    "multiply"
   ]
  },
  {
   "cell_type": "code",
   "execution_count": 10,
   "id": "eef5ec2d",
   "metadata": {},
   "outputs": [
    {
     "data": {
      "text/plain": [
       "('Multiply two integers.\\n\\nArgs:\\n    a (int): The first integer.\\n    b (int): The second integer.\\n\\nReturns:\\n    int: The product of a and b.',\n",
       " {'a': {'title': 'A', 'type': 'integer'},\n",
       "  'b': {'title': 'B', 'type': 'integer'}})"
      ]
     },
     "execution_count": 10,
     "metadata": {},
     "output_type": "execute_result"
    }
   ],
   "source": [
    "multiply.description, multiply.args"
   ]
  },
  {
   "cell_type": "code",
   "execution_count": 15,
   "id": "b1a818f9",
   "metadata": {},
   "outputs": [
    {
     "data": {
      "text/plain": [
       "200"
      ]
     },
     "execution_count": 15,
     "metadata": {},
     "output_type": "execute_result"
    }
   ],
   "source": [
    "multiply.invoke({\"a\":10, \"b\":20})"
   ]
  },
  {
   "cell_type": "code",
   "execution_count": 16,
   "id": "3d2ffd74",
   "metadata": {},
   "outputs": [],
   "source": [
    "from langchain_core.tools import StructuredTool\n",
    "from pydantic import BaseModel"
   ]
  },
  {
   "cell_type": "code",
   "execution_count": 17,
   "id": "df74e5ea",
   "metadata": {},
   "outputs": [],
   "source": [
    "class WeatherInput(BaseModel):\n",
    "    city: str"
   ]
  },
  {
   "cell_type": "code",
   "execution_count": 18,
   "id": "aa7281e4",
   "metadata": {},
   "outputs": [],
   "source": [
    "def get_weather(city: str) -> str:\n",
    "    \"\"\"\n",
    "    Get the weather for a given city.\n",
    "\n",
    "    Args:\n",
    "        city (str): The name of the city.\n",
    "\n",
    "    Returns:\n",
    "        str: A string describing the weather in the city.\n",
    "    \"\"\"\n",
    "    return f\"The weather in {city} is sunny.\""
   ]
  },
  {
   "cell_type": "markdown",
   "id": "7f25fe40",
   "metadata": {},
   "source": [
    "When we define a tool this way, we have more control over it.\n",
    "\n",
    "In the below wether_tool, we are validating the input using pydantic model"
   ]
  },
  {
   "cell_type": "code",
   "execution_count": 19,
   "id": "6d9c0a29",
   "metadata": {},
   "outputs": [],
   "source": [
    "weather_tool = StructuredTool.from_function(\n",
    "    func=get_weather,\n",
    "    name=\"get_weather\",\n",
    "    description=\"Fethcehs real-time weather data for a city\",\n",
    "    args_schema=WeatherInput,\n",
    ")"
   ]
  },
  {
   "cell_type": "code",
   "execution_count": 20,
   "id": "efdca2ea",
   "metadata": {},
   "outputs": [
    {
     "data": {
      "text/plain": [
       "{'city': {'title': 'City', 'type': 'string'}}"
      ]
     },
     "execution_count": 20,
     "metadata": {},
     "output_type": "execute_result"
    }
   ],
   "source": [
    "weather_tool.args"
   ]
  },
  {
   "cell_type": "code",
   "execution_count": 21,
   "id": "33e26fd7",
   "metadata": {},
   "outputs": [
    {
     "data": {
      "text/plain": [
       "'The weather in zionsville is sunny.'"
      ]
     },
     "execution_count": 21,
     "metadata": {},
     "output_type": "execute_result"
    }
   ],
   "source": [
    "weather_tool.invoke({\"city\":\"zionsville\"})"
   ]
  },
  {
   "cell_type": "markdown",
   "id": "7bd3aee0",
   "metadata": {},
   "source": [
    "## Another way of creating a tool"
   ]
  },
  {
   "cell_type": "code",
   "execution_count": 22,
   "id": "0117d08b",
   "metadata": {},
   "outputs": [],
   "source": [
    "from typing import ClassVar, Type\n",
    "from pydantic import BaseModel, Field\n",
    "from langchain.tools import StructuredTool\n",
    "\n",
    "# This is a mock function to simulate fetching weather data.\n",
    "# In a real-world scenario, this would call a weather API.\n",
    "def get_weather(city: str, units: str = \"metric\") -> str:\n",
    "    \"\"\"\n",
    "    Simulates fetching weather data for a given city.\n",
    "    \n",
    "    Args:\n",
    "        city: The name of the city.\n",
    "        units: The units for temperature (\"metric\" or \"imperial\").\n",
    "        \n",
    "    Returns:\n",
    "        A string with a simulated weather report.\n",
    "    \"\"\"\n",
    "    if city.lower() == \"london\":\n",
    "        if units.lower() == \"imperial\":\n",
    "            return \"The weather in London is 68°F and cloudy.\"\n",
    "        else:\n",
    "            return \"The weather in London is 20°C and cloudy.\"\n",
    "    elif city.lower() == \"new york\":\n",
    "        if units.lower() == \"imperial\":\n",
    "            return \"The weather in New York is 75°F and sunny.\"\n",
    "        else:\n",
    "            return \"The weather in New York is 24°C and sunny.\"\n",
    "    else:\n",
    "        return f\"Sorry, I cannot get the weather for {city}.\""
   ]
  },
  {
   "cell_type": "code",
   "execution_count": 23,
   "id": "65bc9a04",
   "metadata": {},
   "outputs": [],
   "source": [
    "# Define the Pydantic model for the tool's input arguments.\n",
    "# This ensures that the input data is validated.\n",
    "class WeatherInput(BaseModel):\n",
    "    city: str = Field(..., description=\"City name\")\n",
    "    units: str = Field(\"metric\", description=\"metric or imperial\")\n",
    "\n",
    "# Define the StructuredTool class. \n",
    "class GetWeatherTool(StructuredTool):\n",
    "    name: ClassVar[str] = \"get_weather\"           \n",
    "    description: ClassVar[str] = (\n",
    "        \"Fetches weather data for a city\"\n",
    "    )\n",
    "    args_schema: ClassVar[Type[BaseModel]] = WeatherInput\n",
    "\n",
    "    def _run(self, city: str, units: str = \"metric\") -> str:\n",
    "        \"\"\"This is the main function that runs the tool's logic.\"\"\"\n",
    "        return get_weather(city, units)"
   ]
  },
  {
   "cell_type": "code",
   "execution_count": 24,
   "id": "433c66b5",
   "metadata": {},
   "outputs": [
    {
     "name": "stdout",
     "output_type": "stream",
     "text": [
      "The weather in London is 20°C and cloudy.\n",
      "The weather in London is 68°F and cloudy.\n",
      "The weather in New York is 24°C and sunny.\n"
     ]
    }
   ],
   "source": [
    "# --- How to run the tool ---\n",
    "\n",
    "# 1. Create an instance of the tool.\n",
    "# This makes the class ready to be used.\n",
    "weather_tool = GetWeatherTool()\n",
    "\n",
    "# 2. Call the tool using its internal _run method.\n",
    "# You can pass arguments directly.\n",
    "result_london_metric = weather_tool._run(city=\"London\")\n",
    "result_london_imperial = weather_tool._run(city=\"London\", units=\"imperial\")\n",
    "result_new_york = weather_tool._run(city=\"New York\")\n",
    "\n",
    "# 3. Print the results to see the output.\n",
    "print(result_london_metric)\n",
    "print(result_london_imperial)\n",
    "print(result_new_york)"
   ]
  },
  {
   "cell_type": "code",
   "execution_count": null,
   "id": "7b7c4c3c",
   "metadata": {},
   "outputs": [],
   "source": []
  }
 ],
 "metadata": {
  "kernelspec": {
   "display_name": "env",
   "language": "python",
   "name": "python3"
  },
  "language_info": {
   "codemirror_mode": {
    "name": "ipython",
    "version": 3
   },
   "file_extension": ".py",
   "mimetype": "text/x-python",
   "name": "python",
   "nbconvert_exporter": "python",
   "pygments_lexer": "ipython3",
   "version": "3.12.11"
  }
 },
 "nbformat": 4,
 "nbformat_minor": 5
}
